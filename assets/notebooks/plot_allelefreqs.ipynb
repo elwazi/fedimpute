{
 "cells": [
  {
   "cell_type": "code",
   "execution_count": null,
   "id": "c269bccf-8a42-404a-94f6-50a8062222a5",
   "metadata": {
    "editable": true,
    "slideshow": {
     "slide_type": ""
    },
    "tags": []
   },
   "outputs": [],
   "source": [
    "#  imports\n",
    "import pandas as pd\n",
    "import os.path\n",
    "from IPython.core.display import HTML"
   ]
  },
  {
   "cell_type": "code",
   "execution_count": null,
   "id": "95b81247-c3ec-4240-8ad4-adc7ff630f58",
   "metadata": {
    "editable": true,
    "slideshow": {
     "slide_type": ""
    },
    "tags": [
     "parameters"
    ]
   },
   "outputs": [],
   "source": [
    "vcf_file = \"test.vcf.gz\"\n",
    "refpanel_freqs = \"/vol1\""
   ]
  },
  {
   "cell_type": "code",
   "execution_count": null,
   "id": "698bd7e2-d5e0-4524-a912-bfeb1f2610f6",
   "metadata": {
    "editable": true,
    "slideshow": {
     "slide_type": ""
    },
    "tags": [
     "remove_cell"
    ]
   },
   "outputs": [],
   "source": [
    "htmlcontent = f\"<h1>Imputation report for <code>{vcf_file}</code></h1>\""
   ]
  },
  {
   "cell_type": "code",
   "execution_count": null,
   "id": "70ba4ba6-2281-4828-b4f5-7bc59e6f82c2",
   "metadata": {
    "editable": true,
    "slideshow": {
     "slide_type": ""
    },
    "tags": [
     "remove_cell"
    ]
   },
   "outputs": [],
   "source": [
    "HTML(htmlcontent)"
   ]
  },
  {
   "cell_type": "code",
   "execution_count": null,
   "id": "c4fdaf55-9e47-467f-b509-521e6a822611",
   "metadata": {
    "editable": true,
    "slideshow": {
     "slide_type": ""
    },
    "tags": []
   },
   "outputs": [],
   "source": []
  }
 ],
 "metadata": {
  "kernelspec": {
   "display_name": "Python 3 (ipykernel)",
   "language": "python",
   "name": "python3"
  },
  "language_info": {
   "codemirror_mode": {
    "name": "ipython",
    "version": 3
   },
   "file_extension": ".py",
   "mimetype": "text/x-python",
   "name": "python",
   "nbconvert_exporter": "python",
   "pygments_lexer": "ipython3",
   "version": "3.9.15"
  }
 },
 "nbformat": 4,
 "nbformat_minor": 5
}
